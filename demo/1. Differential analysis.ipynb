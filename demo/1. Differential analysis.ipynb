{
 "cells": [
  {
   "cell_type": "code",
   "execution_count": 1,
   "id": "e945ee53-6f59-4e86-95ae-59cc47bf7721",
   "metadata": {},
   "outputs": [],
   "source": [
    "import numpy as np\n",
    "import pandas as pd\n",
    "from scipy.stats import fisher_exact, ranksums, wilcoxon\n",
    "import statsmodels.stats.multitest as multi"
   ]
  },
  {
   "cell_type": "code",
   "execution_count": 2,
   "id": "b055efa5-7c16-4653-a2de-6a0f57b42e9c",
   "metadata": {},
   "outputs": [],
   "source": [
    "data = pd.read_csv('Demo_dataset.tsv', sep='\\t', index_col=0)"
   ]
  },
  {
   "cell_type": "code",
   "execution_count": 5,
   "id": "caa4cd6a-ac7e-4f81-8b05-ef7f4db84d4c",
   "metadata": {},
   "outputs": [
    {
     "name": "stderr",
     "output_type": "stream",
     "text": [
      "/opt/conda/lib/python3.9/site-packages/pandas/core/arraylike.py:397: RuntimeWarning: divide by zero encountered in log2\n",
      "  result = getattr(ufunc, method)(*inputs, **kwargs)\n"
     ]
    }
   ],
   "source": [
    "statistics = []\n",
    "control_samples = [i for i in data.columns if 'Mild' in i]\n",
    "disease_samples = [i for i in data.columns if 'Severe' in i]\n",
    "for item in data.index:\n",
    "    control_exp = data.loc[item, control_samples]\n",
    "    disease_exp = data.loc[item, disease_samples]\n",
    "    try:\n",
    "        f, p_value = ranksums(disease_exp, control_exp) # wilcoxon 成组非参检验 / ranksums 秩和检验\n",
    "    except:\n",
    "        f, p_value = 0, 1.0\n",
    "    FC = disease_exp.mean()/control_exp.mean() if control_exp.mean()!=0 else np.inf\n",
    "    statistics.append([item, data.loc[item, 'KO'], len(control_samples), len(disease_samples), \n",
    "                       control_exp.mean(), disease_exp.mean(), FC, p_value])\n",
    "statistics = pd.DataFrame(statistics, index = data.index, columns = ['ID', 'KO', 'N_control', 'N_disease', \n",
    "                                                                       'AveExpr_control', 'AveExpr_disease', \n",
    "                                                                       'FC','P.Value'])\n",
    "statistics['adj.P.Val'] = multi.multipletests(statistics['P.Value'], method = 'fdr_bh')[1]\n",
    "statistics['logFC'] = np.log2(statistics['FC'])\n",
    "statistics = statistics.sort_values('P.Value')"
   ]
  },
  {
   "cell_type": "code",
   "execution_count": 7,
   "id": "0f509523-8b62-40b3-b96d-7a03a5b4f502",
   "metadata": {},
   "outputs": [],
   "source": [
    "statistics.to_csv('differential KOs.tsv', sep='\\t')"
   ]
  }
 ],
 "metadata": {
  "kernelspec": {
   "display_name": "Python 3 (ipykernel)",
   "language": "python",
   "name": "python3"
  },
  "language_info": {
   "codemirror_mode": {
    "name": "ipython",
    "version": 3
   },
   "file_extension": ".py",
   "mimetype": "text/x-python",
   "name": "python",
   "nbconvert_exporter": "python",
   "pygments_lexer": "ipython3",
   "version": "3.9.7"
  }
 },
 "nbformat": 4,
 "nbformat_minor": 5
}
