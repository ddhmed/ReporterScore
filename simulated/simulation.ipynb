{
 "cells": [
  {
   "cell_type": "markdown",
   "id": "a5a2ed23-db1f-43c8-8940-7b8f6b6e0567",
   "metadata": {},
   "source": [
    "## Figure 1"
   ]
  },
  {
   "cell_type": "code",
   "execution_count": 27,
   "id": "f9bd4844-49ba-4241-94d6-04eee521b478",
   "metadata": {},
   "outputs": [],
   "source": [
    "import random\n",
    "import numpy as np\n",
    "import pandas as pd\n",
    "import seaborn as sns\n",
    "import matplotlib.pyplot as plt"
   ]
  },
  {
   "cell_type": "code",
   "execution_count": 147,
   "id": "a8c0dfcf-b571-40ac-9656-bb0190f921d1",
   "metadata": {},
   "outputs": [
    {
     "name": "stdout",
     "output_type": "stream",
     "text": [
      "[  0   4   6  12  14  24  33  34  40  42  43  48  50  55  60  61  62  63\n",
      "  71  76  77  79  90  94  96 100 102 113 115 119 126 128 130 147 151 157\n",
      " 164 165 170 172 174 175 176 177 178 180 184 186 188 192]\n"
     ]
    }
   ],
   "source": [
    "##pvalues: 200\n",
    "np.random.seed(123)\n",
    "KOs = np.random.uniform(0, 0.05, (50,))\n",
    "KOs = np.append(KOs, np.random.uniform(0.05, 1, (170,)))\n",
    "index = np.arange(200)\n",
    "np.random.seed(1024)\n",
    "np.random.shuffle(index)\n",
    "KOs = KOs[index]\n",
    "y = np.where(KOs<0.05)\n",
    "y = np.array(y[0])\n",
    "print(y)"
   ]
  },
  {
   "cell_type": "code",
   "execution_count": 123,
   "id": "656fecc6-9ca9-496d-8cd3-0f3f5ed556ea",
   "metadata": {},
   "outputs": [
    {
     "name": "stdout",
     "output_type": "stream",
     "text": [
      "[30 29 23 40 30 33 35 30 36 45]\n"
     ]
    }
   ],
   "source": [
    "##ten pathways: number of KOs in each pathway\n",
    "np.random.seed(6)\n",
    "nKO = np.random.randint(20, 50, 10)\n",
    "print(nKO)"
   ]
  },
  {
   "cell_type": "code",
   "execution_count": 153,
   "id": "b4eea00c-4ead-478b-8905-732a9a0edd82",
   "metadata": {},
   "outputs": [
    {
     "name": "stdout",
     "output_type": "stream",
     "text": [
      "44\n",
      "331\n"
     ]
    }
   ],
   "source": [
    "##ids of KOs in each pathway\n",
    "KO_id = []\n",
    "y.tolist()\n",
    "np.random.seed(123)\n",
    "for i in nKO[:-1]:\n",
    "    if i==nKO[3]:\n",
    "        ids = np.random.choice(list(set(list(range(0, 200))).difference(set(y))), i, replace=False)\n",
    "    else:\n",
    "        ids = np.random.choice(list(range(0, 200)), i, replace=False)\n",
    "    #print(np.sort(ids))\n",
    "    KO_id.extend(list(ids))\n",
    "diff_id = set(list(range(0, 200))).difference(set(KO_id))\n",
    "diff_id = list(diff_id)\n",
    "print(len(diff_id))\n",
    "diff_id.extend(list(np.random.choice(list(set(list(range(0, 200))).difference(set(diff_id))), \n",
    "                                     nKO[-1]-len(diff_id), \n",
    "                                     replace=False)))\n",
    "KO_id.extend(diff_id)\n",
    "print(len(KO_id))"
   ]
  },
  {
   "cell_type": "code",
   "execution_count": 154,
   "id": "bfe75e41-3987-4b29-9e42-813cb41fd16b",
   "metadata": {},
   "outputs": [
    {
     "name": "stdout",
     "output_type": "stream",
     "text": [
      "331\n",
      "331\n"
     ]
    }
   ],
   "source": [
    "##pvalues of KOs in each pathway\n",
    "pvalues = KOs[KO_id]\n",
    "p_cat = []\n",
    "for value in pvalues:\n",
    "    if (value<0.05):\n",
    "        cat = \"<0.05\"\n",
    "    elif(value<0.1):\n",
    "        cat = \"[0.05, 0.1)\"\n",
    "    elif(value<0.2):\n",
    "        cat = \"[0.1, 0.2)\" \n",
    "    elif(value<0.3): \n",
    "        cat = \"[0.2, 0.3)\" \n",
    "    elif(value<0.4):\n",
    "        cat = \"[0.3, 0.4)\"\n",
    "    elif(value<=0.5):\n",
    "        cat = \"[0.4, 0.5]\" \n",
    "    else:\n",
    "        cat = \">0.5\"\n",
    "    #print(cat)\n",
    "    p_cat.extend([cat])\n",
    "print(len(pvalues))\n",
    "print(len(p_cat))"
   ]
  },
  {
   "cell_type": "code",
   "execution_count": 155,
   "id": "c06d0539-61d8-4274-b2cd-e1005ad47498",
   "metadata": {},
   "outputs": [
    {
     "name": "stdout",
     "output_type": "stream",
     "text": [
      "    pathway KO_id               pvalues       p_cat\n",
      "0         1    50  0.015613061148623264       <0.05\n",
      "1         1   127   0.24725406813650824  [0.2, 0.3)\n",
      "2         1    37    0.9353355406728442        >0.5\n",
      "3         1   149    0.8376570027767959        >0.5\n",
      "4         1    19    0.5678146061431417        >0.5\n",
      "..      ...   ...                   ...         ...\n",
      "326      10   106    0.9843455287433778        >0.5\n",
      "327      10   111    0.7318696841655797        >0.5\n",
      "328      10   118    0.5766640872318834        >0.5\n",
      "329      10   119  0.012522768269825336       <0.05\n",
      "330      10   105    0.8502253157392444        >0.5\n",
      "\n",
      "[331 rows x 4 columns]\n"
     ]
    }
   ],
   "source": [
    "df = pd.DataFrame(np.c_[np.repeat(np.array(range(1,11)), nKO).astype(\"int\"),\n",
    "                        np.array(KO_id).astype(\"int\"), np.array(pvalues), np.array(p_cat)],\n",
    "                 columns=[\"pathway\", \"KO_id\", \"pvalues\", \"p_cat\"])\n",
    "print(df)"
   ]
  },
  {
   "cell_type": "code",
   "execution_count": 156,
   "id": "2f0ce6e2-60e6-4a66-a8ce-1038b016208f",
   "metadata": {},
   "outputs": [
    {
     "data": {
      "text/plain": [
       "<seaborn.axisgrid.FacetGrid at 0xffff51b1a970>"
      ]
     },
     "execution_count": 156,
     "metadata": {},
     "output_type": "execute_result"
    },
    {
     "data": {
      "image/png": "[encoded data removed]",
      "text/plain": [
       "<Figure size 576x720 with 10 Axes>"
      ]
     },
     "metadata": {},
     "output_type": "display_data"
    }
   ],
   "source": [
    "##Not desired!!\n",
    "sns.set_theme(context=\"paper\", style=\"whitegrid\")\n",
    "g = sns.FacetGrid(df, row=\"pathway\", height=1, aspect=8, margin_titles=True)\n",
    "g.map_dataframe(sns.countplot, x=\"p_cat\", \n",
    "                order = [\"<0.05\", \"[0.05, 0.1)\", \"[0.1, 0.2)\", \"[0.2, 0.3)\", \"[0.3, 0.4)\", \"[0.4, 0.5]\", \">0.5\"])\n",
    "g.figure.subplots_adjust(hspace=.2)\n",
    "g.set(ylim=(0, 20), ylabel=\"\", xlabel=\"\", yticks=[0,10,20])\n",
    "#g = sns.catplot(x=\"p_cat\", row=\"pathway\", data=df, kind=\"count\", height=1.5, aspect=4)"
   ]
  },
  {
   "cell_type": "markdown",
   "id": "ea4c3d72-7354-4e77-91df-4311e926ff51",
   "metadata": {},
   "source": [
    "### The output figure is not in desired format. Save the data and create figure 1 use R."
   ]
  },
  {
   "cell_type": "code",
   "execution_count": 157,
   "id": "cc00f7a3-8c1d-4571-87ec-4c3042246780",
   "metadata": {},
   "outputs": [],
   "source": [
    "##save data to csv file\n",
    "df.to_csv('data1.csv',index=False,header=True)"
   ]
  },
  {
   "cell_type": "code",
   "execution_count": null,
   "id": "27cc8a7f-6562-4c0c-aadd-700cc154cff0",
   "metadata": {},
   "outputs": [],
   "source": []
  },
  {
   "cell_type": "code",
   "execution_count": null,
   "id": "72e71062-caf4-4144-ab8d-d6fa4edc7287",
   "metadata": {},
   "outputs": [],
   "source": []
  }
 ],
 "metadata": {
  "kernelspec": {
   "display_name": "Python 3 (ipykernel)",
   "language": "python",
   "name": "python3"
  },
  "language_info": {
   "codemirror_mode": {
    "name": "ipython",
    "version": 3
   },
   "file_extension": ".py",
   "mimetype": "text/x-python",
   "name": "python",
   "nbconvert_exporter": "python",
   "pygments_lexer": "ipython3",
   "version": "3.9.10"
  }
 },
 "nbformat": 4,
 "nbformat_minor": 5
}
